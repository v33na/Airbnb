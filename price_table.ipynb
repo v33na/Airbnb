{
 "cells": [
  {
   "cell_type": "code",
   "execution_count": 1,
   "metadata": {},
   "outputs": [],
   "source": [
    "import pandas as pd"
   ]
  },
  {
   "cell_type": "code",
   "execution_count": 3,
   "metadata": {},
   "outputs": [
    {
     "data": {
      "text/html": [
       "<div>\n",
       "<style scoped>\n",
       "    .dataframe tbody tr th:only-of-type {\n",
       "        vertical-align: middle;\n",
       "    }\n",
       "\n",
       "    .dataframe tbody tr th {\n",
       "        vertical-align: top;\n",
       "    }\n",
       "\n",
       "    .dataframe thead th {\n",
       "        text-align: right;\n",
       "    }\n",
       "</style>\n",
       "<table border=\"1\" class=\"dataframe\">\n",
       "  <thead>\n",
       "    <tr style=\"text-align: right;\">\n",
       "      <th></th>\n",
       "      <th>date</th>\n",
       "      <th>price</th>\n",
       "    </tr>\n",
       "  </thead>\n",
       "  <tbody>\n",
       "    <tr>\n",
       "      <th>0</th>\n",
       "      <td>2015-03-01</td>\n",
       "      <td>100.589888</td>\n",
       "    </tr>\n",
       "    <tr>\n",
       "      <th>1</th>\n",
       "      <td>2015-05-12</td>\n",
       "      <td>107.492823</td>\n",
       "    </tr>\n",
       "    <tr>\n",
       "      <th>2</th>\n",
       "      <td>2015-09-02</td>\n",
       "      <td>116.866558</td>\n",
       "    </tr>\n",
       "    <tr>\n",
       "      <th>3</th>\n",
       "      <td>2015-11-02</td>\n",
       "      <td>111.262417</td>\n",
       "    </tr>\n",
       "    <tr>\n",
       "      <th>4</th>\n",
       "      <td>2015-12-02</td>\n",
       "      <td>108.610211</td>\n",
       "    </tr>\n",
       "  </tbody>\n",
       "</table>\n",
       "</div>"
      ],
      "text/plain": [
       "         date       price\n",
       "0  2015-03-01  100.589888\n",
       "1  2015-05-12  107.492823\n",
       "2  2015-09-02  116.866558\n",
       "3  2015-11-02  111.262417\n",
       "4  2015-12-02  108.610211"
      ]
     },
     "execution_count": 3,
     "metadata": {},
     "output_type": "execute_result"
    }
   ],
   "source": [
    "df = pd.read_csv('./data/Price.csv')\n",
    "df.head()"
   ]
  },
  {
   "cell_type": "code",
   "execution_count": 4,
   "metadata": {},
   "outputs": [
    {
     "data": {
      "text/plain": [
       "'<table border=\"1\" class=\"dataframe\">\\n  <thead>\\n    <tr style=\"text-align: right;\">\\n      <th></th>\\n      <th>date</th>\\n      <th>price</th>\\n    </tr>\\n  </thead>\\n  <tbody>\\n    <tr>\\n      <th>0</th>\\n      <td>2015-03-01</td>\\n      <td>100.589888</td>\\n    </tr>\\n    <tr>\\n      <th>1</th>\\n      <td>2015-05-12</td>\\n      <td>107.492823</td>\\n    </tr>\\n    <tr>\\n      <th>2</th>\\n      <td>2015-09-02</td>\\n      <td>116.866558</td>\\n    </tr>\\n    <tr>\\n      <th>3</th>\\n      <td>2015-11-02</td>\\n      <td>111.262417</td>\\n    </tr>\\n    <tr>\\n      <th>4</th>\\n      <td>2015-12-02</td>\\n      <td>108.610211</td>\\n    </tr>\\n    <tr>\\n      <th>5</th>\\n      <td>2016-01-01</td>\\n      <td>105.984896</td>\\n    </tr>\\n    <tr>\\n      <th>6</th>\\n      <td>2016-02-03</td>\\n      <td>103.364437</td>\\n    </tr>\\n    <tr>\\n      <th>7</th>\\n      <td>2016-04-05</td>\\n      <td>105.319184</td>\\n    </tr>\\n    <tr>\\n      <th>8</th>\\n      <td>2016-05-03</td>\\n      <td>107.019299</td>\\n    </tr>\\n    <tr>\\n      <th>9</th>\\n      <td>2016-06-03</td>\\n      <td>108.141057</td>\\n    </tr>\\n    <tr>\\n      <th>10</th>\\n      <td>2016-07-04</td>\\n      <td>110.508041</td>\\n    </tr>\\n    <tr>\\n      <th>11</th>\\n      <td>2016-08-04</td>\\n      <td>110.948167</td>\\n    </tr>\\n    <tr>\\n      <th>12</th>\\n      <td>2016-09-04</td>\\n      <td>110.728267</td>\\n    </tr>\\n    <tr>\\n      <th>13</th>\\n      <td>2016-11-06</td>\\n      <td>110.545333</td>\\n    </tr>\\n    <tr>\\n      <th>14</th>\\n      <td>2016-12-08</td>\\n      <td>109.363828</td>\\n    </tr>\\n    <tr>\\n      <th>15</th>\\n      <td>2017-01-04</td>\\n      <td>108.602153</td>\\n    </tr>\\n    <tr>\\n      <th>16</th>\\n      <td>2017-02-09</td>\\n      <td>105.433142</td>\\n    </tr>\\n    <tr>\\n      <th>17</th>\\n      <td>2017-03-05</td>\\n      <td>106.193169</td>\\n    </tr>\\n    <tr>\\n      <th>18</th>\\n      <td>2017-04-07</td>\\n      <td>108.255505</td>\\n    </tr>\\n    <tr>\\n      <th>19</th>\\n      <td>2017-05-07</td>\\n      <td>109.415621</td>\\n    </tr>\\n    <tr>\\n      <th>20</th>\\n      <td>2017-06-05</td>\\n      <td>110.817960</td>\\n    </tr>\\n    <tr>\\n      <th>21</th>\\n      <td>2017-07-06</td>\\n      <td>112.642706</td>\\n    </tr>\\n    <tr>\\n      <th>22</th>\\n      <td>2017-08-06</td>\\n      <td>116.996094</td>\\n    </tr>\\n    <tr>\\n      <th>23</th>\\n      <td>2017-09-12</td>\\n      <td>118.759289</td>\\n    </tr>\\n    <tr>\\n      <th>24</th>\\n      <td>2017-10-04</td>\\n      <td>118.706080</td>\\n    </tr>\\n    <tr>\\n      <th>25</th>\\n      <td>2017-11-13</td>\\n      <td>115.686656</td>\\n    </tr>\\n    <tr>\\n      <th>26</th>\\n      <td>2017-12-09</td>\\n      <td>115.639603</td>\\n    </tr>\\n    <tr>\\n      <th>27</th>\\n      <td>2018-01-16</td>\\n      <td>113.613693</td>\\n    </tr>\\n    <tr>\\n      <th>28</th>\\n      <td>2018-02-08</td>\\n      <td>113.332768</td>\\n    </tr>\\n    <tr>\\n      <th>29</th>\\n      <td>2018-04-11</td>\\n      <td>113.519852</td>\\n    </tr>\\n    <tr>\\n      <th>30</th>\\n      <td>2018-05-13</td>\\n      <td>114.133543</td>\\n    </tr>\\n    <tr>\\n      <th>31</th>\\n      <td>2018-07-10</td>\\n      <td>116.095702</td>\\n    </tr>\\n    <tr>\\n      <th>32</th>\\n      <td>2018-08-14</td>\\n      <td>114.775905</td>\\n    </tr>\\n    <tr>\\n      <th>33</th>\\n      <td>2018-09-14</td>\\n      <td>114.454373</td>\\n    </tr>\\n    <tr>\\n      <th>34</th>\\n      <td>2018-10-09</td>\\n      <td>114.616883</td>\\n    </tr>\\n    <tr>\\n      <th>35</th>\\n      <td>2018-12-10</td>\\n      <td>110.985571</td>\\n    </tr>\\n    <tr>\\n      <th>36</th>\\n      <td>2019-01-13</td>\\n      <td>113.993113</td>\\n    </tr>\\n    <tr>\\n      <th>37</th>\\n      <td>2019-02-06</td>\\n      <td>113.163315</td>\\n    </tr>\\n    <tr>\\n      <th>38</th>\\n      <td>2019-03-08</td>\\n      <td>113.626667</td>\\n    </tr>\\n    <tr>\\n      <th>39</th>\\n      <td>2019-04-10</td>\\n      <td>116.156181</td>\\n    </tr>\\n    <tr>\\n      <th>40</th>\\n      <td>2019-05-13</td>\\n      <td>117.531919</td>\\n    </tr>\\n    <tr>\\n      <th>41</th>\\n      <td>2019-06-07</td>\\n      <td>119.439301</td>\\n    </tr>\\n    <tr>\\n      <th>42</th>\\n      <td>2019-07-10</td>\\n      <td>119.592282</td>\\n    </tr>\\n    <tr>\\n      <th>43</th>\\n      <td>2019-09-17</td>\\n      <td>116.926595</td>\\n    </tr>\\n    <tr>\\n      <th>44</th>\\n      <td>2019-10-16</td>\\n      <td>124.963873</td>\\n    </tr>\\n    <tr>\\n      <th>45</th>\\n      <td>2019-11-09</td>\\n      <td>124.835339</td>\\n    </tr>\\n  </tbody>\\n</table>'"
      ]
     },
     "execution_count": 4,
     "metadata": {},
     "output_type": "execute_result"
    }
   ],
   "source": [
    "html_table=df.to_html()\n",
    "html_table"
   ]
  },
  {
   "cell_type": "code",
   "execution_count": 5,
   "metadata": {},
   "outputs": [],
   "source": [
    "df.to_html('table_price.html')"
   ]
  },
  {
   "cell_type": "code",
   "execution_count": null,
   "metadata": {},
   "outputs": [],
   "source": []
  }
 ],
 "metadata": {
  "kernelspec": {
   "display_name": "Python 3",
   "language": "python",
   "name": "python3"
  },
  "language_info": {
   "codemirror_mode": {
    "name": "ipython",
    "version": 3
   },
   "file_extension": ".py",
   "mimetype": "text/x-python",
   "name": "python",
   "nbconvert_exporter": "python",
   "pygments_lexer": "ipython3",
   "version": "3.7.3"
  }
 },
 "nbformat": 4,
 "nbformat_minor": 2
}
