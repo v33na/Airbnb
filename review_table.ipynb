{
 "cells": [
  {
   "cell_type": "code",
   "execution_count": 1,
   "metadata": {},
   "outputs": [],
   "source": [
    "import pandas as pd"
   ]
  },
  {
   "cell_type": "code",
   "execution_count": 3,
   "metadata": {},
   "outputs": [
    {
     "data": {
      "text/html": [
       "<div>\n",
       "<style scoped>\n",
       "    .dataframe tbody tr th:only-of-type {\n",
       "        vertical-align: middle;\n",
       "    }\n",
       "\n",
       "    .dataframe tbody tr th {\n",
       "        vertical-align: top;\n",
       "    }\n",
       "\n",
       "    .dataframe thead th {\n",
       "        text-align: right;\n",
       "    }\n",
       "</style>\n",
       "<table border=\"1\" class=\"dataframe\">\n",
       "  <thead>\n",
       "    <tr style=\"text-align: right;\">\n",
       "      <th></th>\n",
       "      <th>date</th>\n",
       "      <th>reviews</th>\n",
       "    </tr>\n",
       "  </thead>\n",
       "  <tbody>\n",
       "    <tr>\n",
       "      <th>0</th>\n",
       "      <td>2015-05-12</td>\n",
       "      <td>5.311962</td>\n",
       "    </tr>\n",
       "    <tr>\n",
       "      <th>1</th>\n",
       "      <td>2015-09-02</td>\n",
       "      <td>10.238521</td>\n",
       "    </tr>\n",
       "    <tr>\n",
       "      <th>2</th>\n",
       "      <td>2015-11-02</td>\n",
       "      <td>5.264074</td>\n",
       "    </tr>\n",
       "    <tr>\n",
       "      <th>3</th>\n",
       "      <td>2015-12-02</td>\n",
       "      <td>1.803590</td>\n",
       "    </tr>\n",
       "    <tr>\n",
       "      <th>4</th>\n",
       "      <td>2016-01-01</td>\n",
       "      <td>1.341874</td>\n",
       "    </tr>\n",
       "  </tbody>\n",
       "</table>\n",
       "</div>"
      ],
      "text/plain": [
       "         date    reviews\n",
       "0  2015-05-12   5.311962\n",
       "1  2015-09-02  10.238521\n",
       "2  2015-11-02   5.264074\n",
       "3  2015-12-02   1.803590\n",
       "4  2016-01-01   1.341874"
      ]
     },
     "execution_count": 3,
     "metadata": {},
     "output_type": "execute_result"
    }
   ],
   "source": [
    "df = pd.read_csv('./data/Reviews.csv')\n",
    "df.head()"
   ]
  },
  {
   "cell_type": "code",
   "execution_count": 5,
   "metadata": {},
   "outputs": [
    {
     "data": {
      "text/plain": [
       "'<table border=\"1\" class=\"dataframe\">\\n  <thead>\\n    <tr style=\"text-align: right;\">\\n      <th></th>\\n      <th>date</th>\\n      <th>reviews</th>\\n    </tr>\\n  </thead>\\n  <tbody>\\n    <tr>\\n      <th>0</th>\\n      <td>2015-05-12</td>\\n      <td>5.311962</td>\\n    </tr>\\n    <tr>\\n      <th>1</th>\\n      <td>2015-09-02</td>\\n      <td>10.238521</td>\\n    </tr>\\n    <tr>\\n      <th>2</th>\\n      <td>2015-11-02</td>\\n      <td>5.264074</td>\\n    </tr>\\n    <tr>\\n      <th>3</th>\\n      <td>2015-12-02</td>\\n      <td>1.803590</td>\\n    </tr>\\n    <tr>\\n      <th>4</th>\\n      <td>2016-01-01</td>\\n      <td>1.341874</td>\\n    </tr>\\n    <tr>\\n      <th>5</th>\\n      <td>2016-02-03</td>\\n      <td>1.644265</td>\\n    </tr>\\n    <tr>\\n      <th>6</th>\\n      <td>2016-04-05</td>\\n      <td>3.387044</td>\\n    </tr>\\n    <tr>\\n      <th>7</th>\\n      <td>2016-05-03</td>\\n      <td>1.889139</td>\\n    </tr>\\n    <tr>\\n      <th>8</th>\\n      <td>2016-06-03</td>\\n      <td>2.474831</td>\\n    </tr>\\n    <tr>\\n      <th>9</th>\\n      <td>2016-07-04</td>\\n      <td>2.925893</td>\\n    </tr>\\n    <tr>\\n      <th>10</th>\\n      <td>2016-08-04</td>\\n      <td>3.462375</td>\\n    </tr>\\n    <tr>\\n      <th>11</th>\\n      <td>2016-09-04</td>\\n      <td>3.475910</td>\\n    </tr>\\n    <tr>\\n      <th>12</th>\\n      <td>2016-11-06</td>\\n      <td>5.647137</td>\\n    </tr>\\n    <tr>\\n      <th>13</th>\\n      <td>2016-12-08</td>\\n      <td>2.072197</td>\\n    </tr>\\n    <tr>\\n      <th>14</th>\\n      <td>2017-01-04</td>\\n      <td>1.427747</td>\\n    </tr>\\n    <tr>\\n      <th>15</th>\\n      <td>2017-02-09</td>\\n      <td>2.057635</td>\\n    </tr>\\n    <tr>\\n      <th>16</th>\\n      <td>2017-03-05</td>\\n      <td>1.578330</td>\\n    </tr>\\n    <tr>\\n      <th>17</th>\\n      <td>2017-04-07</td>\\n      <td>2.630214</td>\\n    </tr>\\n    <tr>\\n      <th>18</th>\\n      <td>2017-05-07</td>\\n      <td>2.509886</td>\\n    </tr>\\n    <tr>\\n      <th>19</th>\\n      <td>2017-06-05</td>\\n      <td>2.588570</td>\\n    </tr>\\n    <tr>\\n      <th>20</th>\\n      <td>2017-07-06</td>\\n      <td>3.399736</td>\\n    </tr>\\n    <tr>\\n      <th>21</th>\\n      <td>2017-08-06</td>\\n      <td>3.561998</td>\\n    </tr>\\n    <tr>\\n      <th>22</th>\\n      <td>2017-09-12</td>\\n      <td>4.387866</td>\\n    </tr>\\n    <tr>\\n      <th>23</th>\\n      <td>2017-10-04</td>\\n      <td>1.995529</td>\\n    </tr>\\n    <tr>\\n      <th>24</th>\\n      <td>2017-11-13</td>\\n      <td>2.908910</td>\\n    </tr>\\n    <tr>\\n      <th>25</th>\\n      <td>2017-12-09</td>\\n      <td>1.561222</td>\\n    </tr>\\n    <tr>\\n      <th>26</th>\\n      <td>2018-01-16</td>\\n      <td>2.560380</td>\\n    </tr>\\n    <tr>\\n      <th>27</th>\\n      <td>2018-02-08</td>\\n      <td>1.173353</td>\\n    </tr>\\n    <tr>\\n      <th>28</th>\\n      <td>2018-04-11</td>\\n      <td>4.387897</td>\\n    </tr>\\n    <tr>\\n      <th>29</th>\\n      <td>2018-05-13</td>\\n      <td>2.462889</td>\\n    </tr>\\n    <tr>\\n      <th>30</th>\\n      <td>2018-07-10</td>\\n      <td>5.400162</td>\\n    </tr>\\n    <tr>\\n      <th>31</th>\\n      <td>2018-08-14</td>\\n      <td>4.011846</td>\\n    </tr>\\n    <tr>\\n      <th>32</th>\\n      <td>2018-09-14</td>\\n      <td>3.282308</td>\\n    </tr>\\n    <tr>\\n      <th>33</th>\\n      <td>2018-10-09</td>\\n      <td>2.208773</td>\\n    </tr>\\n    <tr>\\n      <th>34</th>\\n      <td>2018-12-10</td>\\n      <td>4.350133</td>\\n    </tr>\\n    <tr>\\n      <th>35</th>\\n      <td>2019-01-13</td>\\n      <td>1.901711</td>\\n    </tr>\\n    <tr>\\n      <th>36</th>\\n      <td>2019-02-06</td>\\n      <td>1.201083</td>\\n    </tr>\\n    <tr>\\n      <th>37</th>\\n      <td>2019-03-08</td>\\n      <td>1.763355</td>\\n    </tr>\\n    <tr>\\n      <th>38</th>\\n      <td>2019-04-10</td>\\n      <td>2.415455</td>\\n    </tr>\\n    <tr>\\n      <th>39</th>\\n      <td>2019-05-13</td>\\n      <td>2.391453</td>\\n    </tr>\\n    <tr>\\n      <th>40</th>\\n      <td>2019-06-07</td>\\n      <td>2.019878</td>\\n    </tr>\\n    <tr>\\n      <th>41</th>\\n      <td>2019-07-10</td>\\n      <td>3.063766</td>\\n    </tr>\\n    <tr>\\n      <th>42</th>\\n      <td>2019-09-17</td>\\n      <td>7.928365</td>\\n    </tr>\\n    <tr>\\n      <th>43</th>\\n      <td>2019-10-16</td>\\n      <td>2.950972</td>\\n    </tr>\\n    <tr>\\n      <th>44</th>\\n      <td>2019-11-09</td>\\n      <td>2.089125</td>\\n    </tr>\\n  </tbody>\\n</table>'"
      ]
     },
     "execution_count": 5,
     "metadata": {},
     "output_type": "execute_result"
    }
   ],
   "source": [
    "html_table=df.to_html()\n",
    "html_table"
   ]
  },
  {
   "cell_type": "code",
   "execution_count": 6,
   "metadata": {},
   "outputs": [],
   "source": [
    "df.to_html('table_review.html')"
   ]
  },
  {
   "cell_type": "code",
   "execution_count": null,
   "metadata": {},
   "outputs": [],
   "source": []
  }
 ],
 "metadata": {
  "kernelspec": {
   "display_name": "Python 3",
   "language": "python",
   "name": "python3"
  },
  "language_info": {
   "codemirror_mode": {
    "name": "ipython",
    "version": 3
   },
   "file_extension": ".py",
   "mimetype": "text/x-python",
   "name": "python",
   "nbconvert_exporter": "python",
   "pygments_lexer": "ipython3",
   "version": "3.7.3"
  }
 },
 "nbformat": 4,
 "nbformat_minor": 2
}
